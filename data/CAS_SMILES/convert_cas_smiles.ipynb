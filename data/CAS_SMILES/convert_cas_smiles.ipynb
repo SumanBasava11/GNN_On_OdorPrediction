{
 "cells": [
  {
   "cell_type": "markdown",
   "id": "6e710778",
   "metadata": {},
   "source": [
    "#### Generate SMILES using API: https://cactus.nci.nih.gov/chemical/structure"
   ]
  },
  {
   "cell_type": "markdown",
   "id": "ea0030d6",
   "metadata": {},
   "source": [
    "Import relavent libraries"
   ]
  },
  {
   "cell_type": "code",
   "execution_count": 2,
   "id": "a9681a3a",
   "metadata": {},
   "outputs": [],
   "source": [
    "import requests\n",
    "import pandas as pd\n",
    "from concurrent.futures import ThreadPoolExecutor, as_completed\n",
    "from tqdm import tqdm"
   ]
  },
  {
   "cell_type": "code",
   "execution_count": 3,
   "id": "148fa460",
   "metadata": {},
   "outputs": [
    {
     "name": "stdout",
     "output_type": "stream",
     "text": [
      "CAS numbers to process: 3839\n",
      "Fetching SMILES using multithreading...\n"
     ]
    },
    {
     "name": "stderr",
     "output_type": "stream",
     "text": [
      "100%|██████████| 3839/3839 [02:44<00:00, 23.40it/s]\n"
     ]
    }
   ],
   "source": [
    "def cas_to_smiles(cas_number):\n",
    "    url = f\"https://cactus.nci.nih.gov/chemical/structure/{cas_number}/smiles\"\n",
    "    try:\n",
    "        response = requests.get(url, timeout=10)\n",
    "        response.raise_for_status()\n",
    "        smiles = response.text.strip()\n",
    "        return cas_number, smiles if smiles else None\n",
    "    except requests.exceptions.RequestException:\n",
    "        return cas_number, None\n",
    "\n",
    "if __name__ == \"__main__\":\n",
    "    # Load CSV\n",
    "    df = pd.read_csv(\"C:/Users/suman/OneDrive/Bureau/Internship_Study/GNN_On_OdorPrediction/data/Handling_missing_data/Hierarchy_OdorCAS.csv\")\n",
    "\n",
    "    if \"cas_number\" not in df.columns:\n",
    "        raise ValueError(\"Column 'cas_number' not found in the CSV file.\")\n",
    "\n",
    "    df = df.dropna(subset=[\"cas_number\"])\n",
    "\n",
    "    # Get CAS numbers\n",
    "    unique_cas_numbers = df[\"cas_number\"].unique()\n",
    "    print(\"CAS numbers to process:\", len(unique_cas_numbers))\n",
    "\n",
    "    # Fetch SMILES in parallel\n",
    "    print(\"Fetching SMILES using multithreading...\")\n",
    "    cas_to_smiles_dict = {}\n",
    "\n",
    "    with ThreadPoolExecutor(max_workers=10) as executor:\n",
    "        futures = {executor.submit(cas_to_smiles, cas): cas for cas in unique_cas_numbers}\n",
    "        for future in tqdm(as_completed(futures), total=len(futures)):\n",
    "            cas, smiles = future.result()\n",
    "            if smiles:  # Store only valid results\n",
    "                cas_to_smiles_dict[cas] = smiles\n",
    "\n",
    "    # Map SMILES to all rows (including duplicates)\n",
    "    df[\"SMILES\"] = df[\"cas_number\"].map(cas_to_smiles_dict)\n",
    "\n",
    "    # Reorder columns: CAS + SMILES first\n",
    "    first_cols = [\"cas_number\", \"SMILES\"]\n",
    "    other_cols = [col for col in df.columns if col not in first_cols]\n",
    "    df = df[first_cols + other_cols]\n",
    "\n",
    "    # Save result\n",
    "    df.to_csv(\"Odor_SMILES.csv\", index=False)\n"
   ]
  },
  {
   "cell_type": "markdown",
   "id": "c806128a",
   "metadata": {},
   "source": [
    "Since the SMILES generation may be interrupted due to API rate limits, we handle this by splitting the data. Initially, we generate SMILES for available CAS numbers and split the output into two parts: `Odor_SMILE_Part1` (with successfully generated SMILES) and `Part2` (with missing SMILES). We then retry `Part2` through the same process, producing a new file that we again split. The newly generated SMILES (`Part3`) are concatenated with `Part1`, and the cycle continues until the API stops returning results entirely."
   ]
  },
  {
   "cell_type": "markdown",
   "id": "d32f832f",
   "metadata": {},
   "source": [
    "#### **Split** CSV"
   ]
  },
  {
   "cell_type": "code",
   "execution_count": null,
   "id": "af6462df",
   "metadata": {},
   "outputs": [],
   "source": [
    "# Load the CSV\n",
    "df = pd.read_csv(\"/content/OdorSmiles_Updated.csv\", dtype={'cas_number': str})\n",
    "\n",
    "# Split row\n",
    "split_row = # Until the SMILES have been fetched \n",
    "\n",
    "# Keep header + row 0 in both parts\n",
    "df_part1 = df.iloc[:split_row]\n",
    "df_part2 = pd.concat([df.iloc[[0]], df.iloc[split_row:]], ignore_index=True)\n",
    "\n",
    "# Save the parts\n",
    "df_part1.to_csv(\"Odor_SMILES_part1.csv\", index=False)\n",
    "df_part2.to_csv(\"Odor_SMILES_part2.csv\", index=False)\n",
    "\n",
    "print(f\"CSV file split at row {split_row}, keeping the first row in both parts.\")\n"
   ]
  },
  {
   "cell_type": "markdown",
   "id": "680ba816",
   "metadata": {},
   "source": [
    "#### Concate 2 CSV files"
   ]
  },
  {
   "cell_type": "code",
   "execution_count": null,
   "id": "d8afef6a",
   "metadata": {},
   "outputs": [],
   "source": [
    "# Load both CSV files\n",
    "df1 = pd.read_csv(\"Inital CSV with smiles\")\n",
    "df2 = pd.read_csv(\"newly generated csv from Odor_SMILES_part2.csv\")\n",
    "\n",
    "# Concatenate them as rows\n",
    "merged_df = pd.concat([df1, df2], ignore_index=True)\n",
    "\n",
    "# Save to a new file\n",
    "merged_df.to_csv(\"Odor_SMILES_merged12.csv\", index=False)\n",
    "\n",
    "print(\"Files merged successfully into 'Odor_SMILES_merged.csv'\")\n"
   ]
  },
  {
   "cell_type": "markdown",
   "id": "bce1bb3b",
   "metadata": {},
   "source": [
    "More than 2000 SMILES were successfully retrieved from CAS numbers using the CACTUS API. For the remaining CAS values where CACTUS did not return results, we used the PubChemPy API to complete the SMILES extraction. This two-step approach ensured maximum coverage."
   ]
  },
  {
   "cell_type": "code",
   "execution_count": 4,
   "id": "02bf629e",
   "metadata": {},
   "outputs": [
    {
     "name": "stdout",
     "output_type": "stream",
     "text": [
      "[{'CID': 61834, 'CanonicalSMILES': 'CCCCCCCC1CC=CC(=O)O1', 'IsomericSMILES': 'CCCCCCCC1CC=CC(=O)O1', 'InChI': 'InChI=1S/C12H20O2/c1-2-3-4-5-6-8-11-9-7-10-12(13)14-11/h7,10-11H,2-6,8-9H2,1H3', 'InChIKey': 'XPTXKXKPWKNYKB-UHFFFAOYSA-N', 'IUPACName': '2-heptyl-2,3-dihydropyran-6-one'}]\n",
      "[{'CID': 27866, 'CanonicalSMILES': 'CC1CCOC(C1)C=C(C)C', 'IsomericSMILES': 'CC1CCOC(C1)C=C(C)C', 'InChI': 'InChI=1S/C10H18O/c1-8(2)6-10-7-9(3)4-5-11-10/h6,9-10H,4-5,7H2,1-3H3', 'InChIKey': 'CZCBTSFUTPZVKJ-UHFFFAOYSA-N', 'IUPACName': '4-methyl-2-(2-methylprop-1-enyl)oxane'}]\n",
      "[{'CID': 27867, 'CanonicalSMILES': 'CC1CCC(C(C1)OC(=O)C)C(C)C', 'IsomericSMILES': 'CC1CCC(C(C1)OC(=O)C)C(C)C', 'InChI': 'InChI=1S/C12H22O2/c1-8(2)11-6-5-9(3)7-12(11)14-10(4)13/h8-9,11-12H,5-7H2,1-4H3', 'InChIKey': 'XHXUANMFYXWVNG-UHFFFAOYSA-N', 'IUPACName': '(5-methyl-2-propan-2-ylcyclohexyl) acetate'}]\n",
      "[{'CID': 565690, 'CanonicalSMILES': 'CC1CCC(C(C1)OC(=O)CC(C)C)C(C)C', 'IsomericSMILES': 'CC1CCC(C(C1)OC(=O)CC(C)C)C(C)C', 'InChI': 'InChI=1S/C15H28O2/c1-10(2)8-15(16)17-14-9-12(5)6-7-13(14)11(3)4/h10-14H,6-9H2,1-5H3', 'InChIKey': 'VYQSSWZYPCCBRN-UHFFFAOYSA-N', 'IUPACName': '(5-methyl-2-propan-2-ylcyclohexyl) 3-methylbutanoate'}]\n",
      "[{'CID': 15559490, 'CanonicalSMILES': 'CC1CCCC2(C1(CCCC2)O)C', 'IsomericSMILES': 'C[C@@H]1CCC[C@]2([C@]1(CCCC2)O)C', 'InChI': 'InChI=1S/C12H22O/c1-10-6-5-8-11(2)7-3-4-9-12(10,11)13/h10,13H,3-9H2,1-2H3/t10-,11+,12-/m1/s1', 'InChIKey': 'JLPUXFOGCDVKGO-GRYCIOLGSA-N', 'IUPACName': '(4R,4aR,8aS)-4,8a-dimethyl-1,2,3,4,5,6,7,8-octahydronaphthalen-4a-ol'}]\n",
      "[{'CID': 5362593, 'CanonicalSMILES': 'CCCCC=CCCCC(=O)O', 'IsomericSMILES': 'CCCC/C=C/CCCC(=O)O', 'InChI': 'InChI=1S/C10H18O2/c1-2-3-4-5-6-7-8-9-10(11)12/h5-6H,2-4,7-9H2,1H3,(H,11,12)/b6-5+', 'InChIKey': 'UJUXUEKQHBXUEM-AATRIKPKSA-N', 'IUPACName': '(E)-dec-5-enoic acid'}]\n",
      "[{'CID': 61835, 'CanonicalSMILES': 'CCCCCCC1CCCCC(=O)O1', 'IsomericSMILES': 'CCCCCCC1CCCCC(=O)O1', 'InChI': 'InChI=1S/C12H22O2/c1-2-3-4-5-8-11-9-6-7-10-12(13)14-11/h11H,2-10H2,1H3', 'InChIKey': 'FRTMRFCNTDDSOB-UHFFFAOYSA-N', 'IUPACName': '7-hexyloxepan-2-one'}]\n"
     ]
    }
   ],
   "source": [
    "import pubchempy as pcp\n",
    "\n",
    "list_cas=[\"16400-72-9\",\n",
    "\"16409-43-1\", \n",
    "\"16409-45-3\", \n",
    "\"16409-46-4\", \n",
    "\"16423-19-1\", \n",
    "\"16424-55-8\", \n",
    "\"16429-21-3\"]\n",
    "for cas in list_cas :\n",
    "    cids = pcp.get_cids(cas, namespace='name')\n",
    "    lookup_result = pcp.get_properties(\n",
    "    ['inchi', 'inchikey', 'canonical_smiles', 'isomeric_smiles', 'iupac_name'],\n",
    "    cids)\n",
    "    print(lookup_result);"
   ]
  }
 ],
 "metadata": {
  "kernelspec": {
   "display_name": "myenv",
   "language": "python",
   "name": "python3"
  },
  "language_info": {
   "codemirror_mode": {
    "name": "ipython",
    "version": 3
   },
   "file_extension": ".py",
   "mimetype": "text/x-python",
   "name": "python",
   "nbconvert_exporter": "python",
   "pygments_lexer": "ipython3",
   "version": "3.11.9"
  }
 },
 "nbformat": 4,
 "nbformat_minor": 5
}
